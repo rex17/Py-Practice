{
 "cells": [
  {
   "cell_type": "code",
   "execution_count": 1,
   "metadata": {
    "collapsed": true
   },
   "outputs": [],
   "source": [
    "import os\n",
    "import sys\n",
    "import pandas as pd\n",
    "from pprint import pprint\n"
   ]
  },
  {
   "cell_type": "code",
   "execution_count": null,
   "metadata": {},
   "outputs": [],
   "source": [
    "os.getcwd()"
   ]
  },
  {
   "cell_type": "code",
   "execution_count": null,
   "metadata": {},
   "outputs": [],
   "source": [
    "os.listdir()"
   ]
  },
  {
   "cell_type": "code",
   "execution_count": 2,
   "metadata": {
    "collapsed": true
   },
   "outputs": [],
   "source": [
    "patients_ds_file = 'BI Analyst Interview Stage 2 - Sample Inpatient Dataset 2013 - 2015(1).xlsx'"
   ]
  },
  {
   "cell_type": "code",
   "execution_count": 3,
   "metadata": {
    "collapsed": true
   },
   "outputs": [],
   "source": [
    "patients_ds_xl = pd.ExcelFile(patients_ds_file)\n"
   ]
  },
  {
   "cell_type": "code",
   "execution_count": 5,
   "metadata": {},
   "outputs": [
    {
     "data": {
      "text/plain": [
       "<pandas.io.excel.ExcelFile at 0x257f3051ac8>"
      ]
     },
     "execution_count": 5,
     "metadata": {},
     "output_type": "execute_result"
    }
   ],
   "source": [
    "patients_ds_xl"
   ]
  },
  {
   "cell_type": "code",
   "execution_count": 56,
   "metadata": {},
   "outputs": [
    {
     "data": {
      "text/plain": [
       "['Inpatient_Discharges', 'Sheet1', '2012', '2013', '2014', '2015']"
      ]
     },
     "execution_count": 56,
     "metadata": {},
     "output_type": "execute_result"
    }
   ],
   "source": [
    "patients_ds_xl.sheet_names"
   ]
  },
  {
   "cell_type": "code",
   "execution_count": 57,
   "metadata": {
    "collapsed": true
   },
   "outputs": [],
   "source": [
    "patients_ds_df = patients_ds_xl.parse('Inpatient_Discharges')"
   ]
  },
  {
   "cell_type": "code",
   "execution_count": 58,
   "metadata": {
    "scrolled": false
   },
   "outputs": [
    {
     "data": {
      "text/html": [
       "<div>\n",
       "<style scoped>\n",
       "    .dataframe tbody tr th:only-of-type {\n",
       "        vertical-align: middle;\n",
       "    }\n",
       "\n",
       "    .dataframe tbody tr th {\n",
       "        vertical-align: top;\n",
       "    }\n",
       "\n",
       "    .dataframe thead th {\n",
       "        text-align: right;\n",
       "    }\n",
       "</style>\n",
       "<table border=\"1\" class=\"dataframe\">\n",
       "  <thead>\n",
       "    <tr style=\"text-align: right;\">\n",
       "      <th></th>\n",
       "      <th>Patient ID</th>\n",
       "      <th>Age</th>\n",
       "      <th>Specialty</th>\n",
       "      <th>Directorate</th>\n",
       "      <th>Doctor</th>\n",
       "      <th>Admission date and time</th>\n",
       "      <th>Discharge Date and Time</th>\n",
       "      <th>Ward</th>\n",
       "      <th>Admission Type</th>\n",
       "      <th>Admission Category</th>\n",
       "      <th>Admission Source</th>\n",
       "      <th>LOS</th>\n",
       "      <th>Adult/Child</th>\n",
       "      <th>Y/N on 30/09/2014@5am</th>\n",
       "      <th>Unnamed: 14</th>\n",
       "    </tr>\n",
       "  </thead>\n",
       "  <tbody>\n",
       "    <tr>\n",
       "      <th>0</th>\n",
       "      <td>1.0</td>\n",
       "      <td>76.0</td>\n",
       "      <td>Adult Stroke</td>\n",
       "      <td>Medical</td>\n",
       "      <td>Fiona O'Donnell</td>\n",
       "      <td>2012-12-05 01:31:00</td>\n",
       "      <td>2013-01-01 00:21:00</td>\n",
       "      <td>Acute  Stroke Unit</td>\n",
       "      <td>A/E</td>\n",
       "      <td>Private Patient</td>\n",
       "      <td>ED</td>\n",
       "      <td>26 Days 22 Hour 50 Minutes</td>\n",
       "      <td>Adult</td>\n",
       "      <td>N</td>\n",
       "      <td>2014-09-30 05:00:00</td>\n",
       "    </tr>\n",
       "    <tr>\n",
       "      <th>1</th>\n",
       "      <td>2.0</td>\n",
       "      <td>41.0</td>\n",
       "      <td>Adult Urology</td>\n",
       "      <td>Surgical</td>\n",
       "      <td>Damian Hinds</td>\n",
       "      <td>2012-12-31 17:01:00</td>\n",
       "      <td>2013-01-01 09:17:00</td>\n",
       "      <td>Lane</td>\n",
       "      <td>A/E</td>\n",
       "      <td>Public Patient</td>\n",
       "      <td>ED</td>\n",
       "      <td>0 Days 16 Hour 16 Minutes</td>\n",
       "      <td>Adult</td>\n",
       "      <td>N</td>\n",
       "      <td>NaT</td>\n",
       "    </tr>\n",
       "    <tr>\n",
       "      <th>2</th>\n",
       "      <td>3.0</td>\n",
       "      <td>46.0</td>\n",
       "      <td>Adult Cardiology</td>\n",
       "      <td>Medical</td>\n",
       "      <td>Frank Field</td>\n",
       "      <td>2012-12-31 14:29:00</td>\n",
       "      <td>2013-01-01 12:00:00</td>\n",
       "      <td>CCU</td>\n",
       "      <td>A/E</td>\n",
       "      <td>Private Patient</td>\n",
       "      <td>Emergency OPD Admission</td>\n",
       "      <td>0 Days 21 Hour 31 Minutes</td>\n",
       "      <td>Adult</td>\n",
       "      <td>N</td>\n",
       "      <td>NaT</td>\n",
       "    </tr>\n",
       "    <tr>\n",
       "      <th>3</th>\n",
       "      <td>4.0</td>\n",
       "      <td>7.0</td>\n",
       "      <td>Paediatric Orthopaedics</td>\n",
       "      <td>Paediatric</td>\n",
       "      <td>Gordon Birtwistle</td>\n",
       "      <td>2012-12-31 22:35:00</td>\n",
       "      <td>2013-01-01 16:44:00</td>\n",
       "      <td>OAK</td>\n",
       "      <td>A/E</td>\n",
       "      <td>Public Patient</td>\n",
       "      <td>ED</td>\n",
       "      <td>0 Days 18 Hour 9 Minutes</td>\n",
       "      <td>Child</td>\n",
       "      <td>N</td>\n",
       "      <td>NaT</td>\n",
       "    </tr>\n",
       "    <tr>\n",
       "      <th>4</th>\n",
       "      <td>5.0</td>\n",
       "      <td>8.0</td>\n",
       "      <td>Paediatric Orthopaedics</td>\n",
       "      <td>Paediatric</td>\n",
       "      <td>Gordon Birtwistle</td>\n",
       "      <td>2012-12-31 22:31:00</td>\n",
       "      <td>2013-01-01 16:44:00</td>\n",
       "      <td>OAK</td>\n",
       "      <td>A/E</td>\n",
       "      <td>Public Patient</td>\n",
       "      <td>ED</td>\n",
       "      <td>0 Days 18 Hour 13 Minutes</td>\n",
       "      <td>Child</td>\n",
       "      <td>N</td>\n",
       "      <td>NaT</td>\n",
       "    </tr>\n",
       "  </tbody>\n",
       "</table>\n",
       "</div>"
      ],
      "text/plain": [
       "   Patient ID   Age                Specialty Directorate             Doctor  \\\n",
       "0         1.0  76.0             Adult Stroke     Medical    Fiona O'Donnell   \n",
       "1         2.0  41.0            Adult Urology    Surgical       Damian Hinds   \n",
       "2         3.0  46.0         Adult Cardiology     Medical        Frank Field   \n",
       "3         4.0   7.0  Paediatric Orthopaedics  Paediatric  Gordon Birtwistle   \n",
       "4         5.0   8.0  Paediatric Orthopaedics  Paediatric  Gordon Birtwistle   \n",
       "\n",
       "  Admission date and time Discharge Date and Time                Ward  \\\n",
       "0     2012-12-05 01:31:00     2013-01-01 00:21:00  Acute  Stroke Unit   \n",
       "1     2012-12-31 17:01:00     2013-01-01 09:17:00                Lane   \n",
       "2     2012-12-31 14:29:00     2013-01-01 12:00:00                 CCU   \n",
       "3     2012-12-31 22:35:00     2013-01-01 16:44:00                 OAK   \n",
       "4     2012-12-31 22:31:00     2013-01-01 16:44:00                 OAK   \n",
       "\n",
       "  Admission Type Admission Category         Admission Source  \\\n",
       "0            A/E    Private Patient                       ED   \n",
       "1            A/E     Public Patient                       ED   \n",
       "2            A/E    Private Patient  Emergency OPD Admission   \n",
       "3            A/E     Public Patient                       ED   \n",
       "4            A/E     Public Patient                       ED   \n",
       "\n",
       "                          LOS Adult/Child Y/N on 30/09/2014@5am  \\\n",
       "0  26 Days 22 Hour 50 Minutes       Adult                     N   \n",
       "1   0 Days 16 Hour 16 Minutes       Adult                     N   \n",
       "2   0 Days 21 Hour 31 Minutes       Adult                     N   \n",
       "3    0 Days 18 Hour 9 Minutes       Child                     N   \n",
       "4   0 Days 18 Hour 13 Minutes       Child                     N   \n",
       "\n",
       "          Unnamed: 14  \n",
       "0 2014-09-30 05:00:00  \n",
       "1                 NaT  \n",
       "2                 NaT  \n",
       "3                 NaT  \n",
       "4                 NaT  "
      ]
     },
     "execution_count": 58,
     "metadata": {},
     "output_type": "execute_result"
    }
   ],
   "source": [
    "patients_ds_df.head()"
   ]
  },
  {
   "cell_type": "code",
   "execution_count": 59,
   "metadata": {},
   "outputs": [
    {
     "data": {
      "text/plain": [
       "Index(['Patient ID', 'Age', 'Specialty', 'Directorate', 'Doctor',\n",
       "       'Admission date and time', 'Discharge Date and Time', 'Ward',\n",
       "       'Admission Type', 'Admission Category', 'Admission Source', 'LOS',\n",
       "       'Adult/Child', 'Y/N on 30/09/2014@5am', 'Unnamed: 14'],\n",
       "      dtype='object')"
      ]
     },
     "execution_count": 59,
     "metadata": {},
     "output_type": "execute_result"
    }
   ],
   "source": [
    "patients_ds_df.columns"
   ]
  },
  {
   "cell_type": "code",
   "execution_count": 60,
   "metadata": {},
   "outputs": [
    {
     "data": {
      "text/plain": [
       "Patient ID                        float64\n",
       "Age                               float64\n",
       "Specialty                          object\n",
       "Directorate                        object\n",
       "Doctor                             object\n",
       "Admission date and time            object\n",
       "Discharge Date and Time            object\n",
       "Ward                               object\n",
       "Admission Type                     object\n",
       "Admission Category                 object\n",
       "Admission Source                   object\n",
       "LOS                                object\n",
       "Adult/Child                        object\n",
       "Y/N on 30/09/2014@5am              object\n",
       "Unnamed: 14                datetime64[ns]\n",
       "dtype: object"
      ]
     },
     "execution_count": 60,
     "metadata": {},
     "output_type": "execute_result"
    }
   ],
   "source": [
    "patients_ds_df.dtypes"
   ]
  },
  {
   "cell_type": "code",
   "execution_count": 61,
   "metadata": {
    "collapsed": true
   },
   "outputs": [],
   "source": [
    "patients_ds_df['DateAdmission'] = pd.to_datetime(patients_ds_df['Admission date and time'],errors='coerce')"
   ]
  },
  {
   "cell_type": "code",
   "execution_count": 62,
   "metadata": {
    "collapsed": true
   },
   "outputs": [],
   "source": [
    "patients_ds_df['DateDischarge'] = pd.to_datetime(patients_ds_df['Discharge Date and Time'],errors='coerce')"
   ]
  },
  {
   "cell_type": "code",
   "execution_count": 63,
   "metadata": {},
   "outputs": [
    {
     "data": {
      "text/plain": [
       "12411"
      ]
     },
     "execution_count": 63,
     "metadata": {},
     "output_type": "execute_result"
    }
   ],
   "source": [
    "patients_ds_df['Patient ID'].count()"
   ]
  },
  {
   "cell_type": "code",
   "execution_count": 64,
   "metadata": {
    "collapsed": true
   },
   "outputs": [],
   "source": [
    "patients_ds_df['AdmissionYear'] = patients_ds_df['DateAdmission'].map(lambda x: x.year)"
   ]
  },
  {
   "cell_type": "code",
   "execution_count": 65,
   "metadata": {},
   "outputs": [
    {
     "data": {
      "text/html": [
       "<div>\n",
       "<style scoped>\n",
       "    .dataframe tbody tr th:only-of-type {\n",
       "        vertical-align: middle;\n",
       "    }\n",
       "\n",
       "    .dataframe tbody tr th {\n",
       "        vertical-align: top;\n",
       "    }\n",
       "\n",
       "    .dataframe thead th {\n",
       "        text-align: right;\n",
       "    }\n",
       "</style>\n",
       "<table border=\"1\" class=\"dataframe\">\n",
       "  <thead>\n",
       "    <tr style=\"text-align: right;\">\n",
       "      <th></th>\n",
       "      <th>Patient ID</th>\n",
       "      <th>Age</th>\n",
       "      <th>Specialty</th>\n",
       "      <th>Directorate</th>\n",
       "      <th>Doctor</th>\n",
       "      <th>Admission date and time</th>\n",
       "      <th>Discharge Date and Time</th>\n",
       "      <th>Ward</th>\n",
       "      <th>Admission Type</th>\n",
       "      <th>Admission Category</th>\n",
       "      <th>Admission Source</th>\n",
       "      <th>LOS</th>\n",
       "      <th>Adult/Child</th>\n",
       "      <th>Y/N on 30/09/2014@5am</th>\n",
       "      <th>Unnamed: 14</th>\n",
       "      <th>DateAdmission</th>\n",
       "      <th>DateDischarge</th>\n",
       "      <th>AdmissionYear</th>\n",
       "    </tr>\n",
       "  </thead>\n",
       "  <tbody>\n",
       "    <tr>\n",
       "      <th>0</th>\n",
       "      <td>1.0</td>\n",
       "      <td>76.0</td>\n",
       "      <td>Adult Stroke</td>\n",
       "      <td>Medical</td>\n",
       "      <td>Fiona O'Donnell</td>\n",
       "      <td>2012-12-05 01:31:00</td>\n",
       "      <td>2013-01-01 00:21:00</td>\n",
       "      <td>Acute  Stroke Unit</td>\n",
       "      <td>A/E</td>\n",
       "      <td>Private Patient</td>\n",
       "      <td>ED</td>\n",
       "      <td>26 Days 22 Hour 50 Minutes</td>\n",
       "      <td>Adult</td>\n",
       "      <td>N</td>\n",
       "      <td>2014-09-30 05:00:00</td>\n",
       "      <td>2012-12-05 01:31:00</td>\n",
       "      <td>2013-01-01 00:21:00</td>\n",
       "      <td>2012.0</td>\n",
       "    </tr>\n",
       "    <tr>\n",
       "      <th>1</th>\n",
       "      <td>2.0</td>\n",
       "      <td>41.0</td>\n",
       "      <td>Adult Urology</td>\n",
       "      <td>Surgical</td>\n",
       "      <td>Damian Hinds</td>\n",
       "      <td>2012-12-31 17:01:00</td>\n",
       "      <td>2013-01-01 09:17:00</td>\n",
       "      <td>Lane</td>\n",
       "      <td>A/E</td>\n",
       "      <td>Public Patient</td>\n",
       "      <td>ED</td>\n",
       "      <td>0 Days 16 Hour 16 Minutes</td>\n",
       "      <td>Adult</td>\n",
       "      <td>N</td>\n",
       "      <td>NaT</td>\n",
       "      <td>2012-12-31 17:01:00</td>\n",
       "      <td>2013-01-01 09:17:00</td>\n",
       "      <td>2012.0</td>\n",
       "    </tr>\n",
       "    <tr>\n",
       "      <th>2</th>\n",
       "      <td>3.0</td>\n",
       "      <td>46.0</td>\n",
       "      <td>Adult Cardiology</td>\n",
       "      <td>Medical</td>\n",
       "      <td>Frank Field</td>\n",
       "      <td>2012-12-31 14:29:00</td>\n",
       "      <td>2013-01-01 12:00:00</td>\n",
       "      <td>CCU</td>\n",
       "      <td>A/E</td>\n",
       "      <td>Private Patient</td>\n",
       "      <td>Emergency OPD Admission</td>\n",
       "      <td>0 Days 21 Hour 31 Minutes</td>\n",
       "      <td>Adult</td>\n",
       "      <td>N</td>\n",
       "      <td>NaT</td>\n",
       "      <td>2012-12-31 14:29:00</td>\n",
       "      <td>2013-01-01 12:00:00</td>\n",
       "      <td>2012.0</td>\n",
       "    </tr>\n",
       "    <tr>\n",
       "      <th>3</th>\n",
       "      <td>4.0</td>\n",
       "      <td>7.0</td>\n",
       "      <td>Paediatric Orthopaedics</td>\n",
       "      <td>Paediatric</td>\n",
       "      <td>Gordon Birtwistle</td>\n",
       "      <td>2012-12-31 22:35:00</td>\n",
       "      <td>2013-01-01 16:44:00</td>\n",
       "      <td>OAK</td>\n",
       "      <td>A/E</td>\n",
       "      <td>Public Patient</td>\n",
       "      <td>ED</td>\n",
       "      <td>0 Days 18 Hour 9 Minutes</td>\n",
       "      <td>Child</td>\n",
       "      <td>N</td>\n",
       "      <td>NaT</td>\n",
       "      <td>2012-12-31 22:35:00</td>\n",
       "      <td>2013-01-01 16:44:00</td>\n",
       "      <td>2012.0</td>\n",
       "    </tr>\n",
       "    <tr>\n",
       "      <th>4</th>\n",
       "      <td>5.0</td>\n",
       "      <td>8.0</td>\n",
       "      <td>Paediatric Orthopaedics</td>\n",
       "      <td>Paediatric</td>\n",
       "      <td>Gordon Birtwistle</td>\n",
       "      <td>2012-12-31 22:31:00</td>\n",
       "      <td>2013-01-01 16:44:00</td>\n",
       "      <td>OAK</td>\n",
       "      <td>A/E</td>\n",
       "      <td>Public Patient</td>\n",
       "      <td>ED</td>\n",
       "      <td>0 Days 18 Hour 13 Minutes</td>\n",
       "      <td>Child</td>\n",
       "      <td>N</td>\n",
       "      <td>NaT</td>\n",
       "      <td>2012-12-31 22:31:00</td>\n",
       "      <td>2013-01-01 16:44:00</td>\n",
       "      <td>2012.0</td>\n",
       "    </tr>\n",
       "  </tbody>\n",
       "</table>\n",
       "</div>"
      ],
      "text/plain": [
       "   Patient ID   Age                Specialty Directorate             Doctor  \\\n",
       "0         1.0  76.0             Adult Stroke     Medical    Fiona O'Donnell   \n",
       "1         2.0  41.0            Adult Urology    Surgical       Damian Hinds   \n",
       "2         3.0  46.0         Adult Cardiology     Medical        Frank Field   \n",
       "3         4.0   7.0  Paediatric Orthopaedics  Paediatric  Gordon Birtwistle   \n",
       "4         5.0   8.0  Paediatric Orthopaedics  Paediatric  Gordon Birtwistle   \n",
       "\n",
       "  Admission date and time Discharge Date and Time                Ward  \\\n",
       "0     2012-12-05 01:31:00     2013-01-01 00:21:00  Acute  Stroke Unit   \n",
       "1     2012-12-31 17:01:00     2013-01-01 09:17:00                Lane   \n",
       "2     2012-12-31 14:29:00     2013-01-01 12:00:00                 CCU   \n",
       "3     2012-12-31 22:35:00     2013-01-01 16:44:00                 OAK   \n",
       "4     2012-12-31 22:31:00     2013-01-01 16:44:00                 OAK   \n",
       "\n",
       "  Admission Type Admission Category         Admission Source  \\\n",
       "0            A/E    Private Patient                       ED   \n",
       "1            A/E     Public Patient                       ED   \n",
       "2            A/E    Private Patient  Emergency OPD Admission   \n",
       "3            A/E     Public Patient                       ED   \n",
       "4            A/E     Public Patient                       ED   \n",
       "\n",
       "                          LOS Adult/Child Y/N on 30/09/2014@5am  \\\n",
       "0  26 Days 22 Hour 50 Minutes       Adult                     N   \n",
       "1   0 Days 16 Hour 16 Minutes       Adult                     N   \n",
       "2   0 Days 21 Hour 31 Minutes       Adult                     N   \n",
       "3    0 Days 18 Hour 9 Minutes       Child                     N   \n",
       "4   0 Days 18 Hour 13 Minutes       Child                     N   \n",
       "\n",
       "          Unnamed: 14       DateAdmission       DateDischarge  AdmissionYear  \n",
       "0 2014-09-30 05:00:00 2012-12-05 01:31:00 2013-01-01 00:21:00         2012.0  \n",
       "1                 NaT 2012-12-31 17:01:00 2013-01-01 09:17:00         2012.0  \n",
       "2                 NaT 2012-12-31 14:29:00 2013-01-01 12:00:00         2012.0  \n",
       "3                 NaT 2012-12-31 22:35:00 2013-01-01 16:44:00         2012.0  \n",
       "4                 NaT 2012-12-31 22:31:00 2013-01-01 16:44:00         2012.0  "
      ]
     },
     "execution_count": 65,
     "metadata": {},
     "output_type": "execute_result"
    }
   ],
   "source": [
    "patients_ds_df.head()"
   ]
  },
  {
   "cell_type": "code",
   "execution_count": 66,
   "metadata": {},
   "outputs": [
    {
     "data": {
      "text/plain": [
       "2013.0    4536\n",
       "2014.0    3930\n",
       "2015.0    3893\n",
       "2012.0      54\n",
       "Name: AdmissionYear, dtype: int64"
      ]
     },
     "execution_count": 66,
     "metadata": {},
     "output_type": "execute_result"
    }
   ],
   "source": [
    "patients_ds_df['AdmissionYear'].value_counts()"
   ]
  },
  {
   "cell_type": "code",
   "execution_count": 68,
   "metadata": {},
   "outputs": [
    {
     "data": {
      "text/plain": [
       "4119.666666666667"
      ]
     },
     "execution_count": 68,
     "metadata": {},
     "output_type": "execute_result"
    }
   ],
   "source": [
    "(4536 + 3930 + 3893) / 3"
   ]
  },
  {
   "cell_type": "code",
   "execution_count": 70,
   "metadata": {
    "collapsed": true
   },
   "outputs": [],
   "source": [
    "patients_ds_df['PatientStayRange'] = patients_ds_df['DateDischarge'] - patients_ds_df['DateAdmission']"
   ]
  },
  {
   "cell_type": "code",
   "execution_count": 71,
   "metadata": {},
   "outputs": [
    {
     "data": {
      "text/html": [
       "<div>\n",
       "<style scoped>\n",
       "    .dataframe tbody tr th:only-of-type {\n",
       "        vertical-align: middle;\n",
       "    }\n",
       "\n",
       "    .dataframe tbody tr th {\n",
       "        vertical-align: top;\n",
       "    }\n",
       "\n",
       "    .dataframe thead th {\n",
       "        text-align: right;\n",
       "    }\n",
       "</style>\n",
       "<table border=\"1\" class=\"dataframe\">\n",
       "  <thead>\n",
       "    <tr style=\"text-align: right;\">\n",
       "      <th></th>\n",
       "      <th>Patient ID</th>\n",
       "      <th>Age</th>\n",
       "      <th>Specialty</th>\n",
       "      <th>Directorate</th>\n",
       "      <th>Doctor</th>\n",
       "      <th>Admission date and time</th>\n",
       "      <th>Discharge Date and Time</th>\n",
       "      <th>Ward</th>\n",
       "      <th>Admission Type</th>\n",
       "      <th>Admission Category</th>\n",
       "      <th>Admission Source</th>\n",
       "      <th>LOS</th>\n",
       "      <th>Adult/Child</th>\n",
       "      <th>Y/N on 30/09/2014@5am</th>\n",
       "      <th>Unnamed: 14</th>\n",
       "      <th>DateAdmission</th>\n",
       "      <th>DateDischarge</th>\n",
       "      <th>AdmissionYear</th>\n",
       "      <th>PatientStayRange</th>\n",
       "    </tr>\n",
       "  </thead>\n",
       "  <tbody>\n",
       "    <tr>\n",
       "      <th>0</th>\n",
       "      <td>1.0</td>\n",
       "      <td>76.0</td>\n",
       "      <td>Adult Stroke</td>\n",
       "      <td>Medical</td>\n",
       "      <td>Fiona O'Donnell</td>\n",
       "      <td>2012-12-05 01:31:00</td>\n",
       "      <td>2013-01-01 00:21:00</td>\n",
       "      <td>Acute  Stroke Unit</td>\n",
       "      <td>A/E</td>\n",
       "      <td>Private Patient</td>\n",
       "      <td>ED</td>\n",
       "      <td>26 Days 22 Hour 50 Minutes</td>\n",
       "      <td>Adult</td>\n",
       "      <td>N</td>\n",
       "      <td>2014-09-30 05:00:00</td>\n",
       "      <td>2012-12-05 01:31:00</td>\n",
       "      <td>2013-01-01 00:21:00</td>\n",
       "      <td>2012.0</td>\n",
       "      <td>26 days 22:50:00</td>\n",
       "    </tr>\n",
       "    <tr>\n",
       "      <th>1</th>\n",
       "      <td>2.0</td>\n",
       "      <td>41.0</td>\n",
       "      <td>Adult Urology</td>\n",
       "      <td>Surgical</td>\n",
       "      <td>Damian Hinds</td>\n",
       "      <td>2012-12-31 17:01:00</td>\n",
       "      <td>2013-01-01 09:17:00</td>\n",
       "      <td>Lane</td>\n",
       "      <td>A/E</td>\n",
       "      <td>Public Patient</td>\n",
       "      <td>ED</td>\n",
       "      <td>0 Days 16 Hour 16 Minutes</td>\n",
       "      <td>Adult</td>\n",
       "      <td>N</td>\n",
       "      <td>NaT</td>\n",
       "      <td>2012-12-31 17:01:00</td>\n",
       "      <td>2013-01-01 09:17:00</td>\n",
       "      <td>2012.0</td>\n",
       "      <td>0 days 16:16:00</td>\n",
       "    </tr>\n",
       "    <tr>\n",
       "      <th>2</th>\n",
       "      <td>3.0</td>\n",
       "      <td>46.0</td>\n",
       "      <td>Adult Cardiology</td>\n",
       "      <td>Medical</td>\n",
       "      <td>Frank Field</td>\n",
       "      <td>2012-12-31 14:29:00</td>\n",
       "      <td>2013-01-01 12:00:00</td>\n",
       "      <td>CCU</td>\n",
       "      <td>A/E</td>\n",
       "      <td>Private Patient</td>\n",
       "      <td>Emergency OPD Admission</td>\n",
       "      <td>0 Days 21 Hour 31 Minutes</td>\n",
       "      <td>Adult</td>\n",
       "      <td>N</td>\n",
       "      <td>NaT</td>\n",
       "      <td>2012-12-31 14:29:00</td>\n",
       "      <td>2013-01-01 12:00:00</td>\n",
       "      <td>2012.0</td>\n",
       "      <td>0 days 21:31:00</td>\n",
       "    </tr>\n",
       "    <tr>\n",
       "      <th>3</th>\n",
       "      <td>4.0</td>\n",
       "      <td>7.0</td>\n",
       "      <td>Paediatric Orthopaedics</td>\n",
       "      <td>Paediatric</td>\n",
       "      <td>Gordon Birtwistle</td>\n",
       "      <td>2012-12-31 22:35:00</td>\n",
       "      <td>2013-01-01 16:44:00</td>\n",
       "      <td>OAK</td>\n",
       "      <td>A/E</td>\n",
       "      <td>Public Patient</td>\n",
       "      <td>ED</td>\n",
       "      <td>0 Days 18 Hour 9 Minutes</td>\n",
       "      <td>Child</td>\n",
       "      <td>N</td>\n",
       "      <td>NaT</td>\n",
       "      <td>2012-12-31 22:35:00</td>\n",
       "      <td>2013-01-01 16:44:00</td>\n",
       "      <td>2012.0</td>\n",
       "      <td>0 days 18:09:00</td>\n",
       "    </tr>\n",
       "    <tr>\n",
       "      <th>4</th>\n",
       "      <td>5.0</td>\n",
       "      <td>8.0</td>\n",
       "      <td>Paediatric Orthopaedics</td>\n",
       "      <td>Paediatric</td>\n",
       "      <td>Gordon Birtwistle</td>\n",
       "      <td>2012-12-31 22:31:00</td>\n",
       "      <td>2013-01-01 16:44:00</td>\n",
       "      <td>OAK</td>\n",
       "      <td>A/E</td>\n",
       "      <td>Public Patient</td>\n",
       "      <td>ED</td>\n",
       "      <td>0 Days 18 Hour 13 Minutes</td>\n",
       "      <td>Child</td>\n",
       "      <td>N</td>\n",
       "      <td>NaT</td>\n",
       "      <td>2012-12-31 22:31:00</td>\n",
       "      <td>2013-01-01 16:44:00</td>\n",
       "      <td>2012.0</td>\n",
       "      <td>0 days 18:13:00</td>\n",
       "    </tr>\n",
       "  </tbody>\n",
       "</table>\n",
       "</div>"
      ],
      "text/plain": [
       "   Patient ID   Age                Specialty Directorate             Doctor  \\\n",
       "0         1.0  76.0             Adult Stroke     Medical    Fiona O'Donnell   \n",
       "1         2.0  41.0            Adult Urology    Surgical       Damian Hinds   \n",
       "2         3.0  46.0         Adult Cardiology     Medical        Frank Field   \n",
       "3         4.0   7.0  Paediatric Orthopaedics  Paediatric  Gordon Birtwistle   \n",
       "4         5.0   8.0  Paediatric Orthopaedics  Paediatric  Gordon Birtwistle   \n",
       "\n",
       "  Admission date and time Discharge Date and Time                Ward  \\\n",
       "0     2012-12-05 01:31:00     2013-01-01 00:21:00  Acute  Stroke Unit   \n",
       "1     2012-12-31 17:01:00     2013-01-01 09:17:00                Lane   \n",
       "2     2012-12-31 14:29:00     2013-01-01 12:00:00                 CCU   \n",
       "3     2012-12-31 22:35:00     2013-01-01 16:44:00                 OAK   \n",
       "4     2012-12-31 22:31:00     2013-01-01 16:44:00                 OAK   \n",
       "\n",
       "  Admission Type Admission Category         Admission Source  \\\n",
       "0            A/E    Private Patient                       ED   \n",
       "1            A/E     Public Patient                       ED   \n",
       "2            A/E    Private Patient  Emergency OPD Admission   \n",
       "3            A/E     Public Patient                       ED   \n",
       "4            A/E     Public Patient                       ED   \n",
       "\n",
       "                          LOS Adult/Child Y/N on 30/09/2014@5am  \\\n",
       "0  26 Days 22 Hour 50 Minutes       Adult                     N   \n",
       "1   0 Days 16 Hour 16 Minutes       Adult                     N   \n",
       "2   0 Days 21 Hour 31 Minutes       Adult                     N   \n",
       "3    0 Days 18 Hour 9 Minutes       Child                     N   \n",
       "4   0 Days 18 Hour 13 Minutes       Child                     N   \n",
       "\n",
       "          Unnamed: 14       DateAdmission       DateDischarge  AdmissionYear  \\\n",
       "0 2014-09-30 05:00:00 2012-12-05 01:31:00 2013-01-01 00:21:00         2012.0   \n",
       "1                 NaT 2012-12-31 17:01:00 2013-01-01 09:17:00         2012.0   \n",
       "2                 NaT 2012-12-31 14:29:00 2013-01-01 12:00:00         2012.0   \n",
       "3                 NaT 2012-12-31 22:35:00 2013-01-01 16:44:00         2012.0   \n",
       "4                 NaT 2012-12-31 22:31:00 2013-01-01 16:44:00         2012.0   \n",
       "\n",
       "  PatientStayRange  \n",
       "0 26 days 22:50:00  \n",
       "1  0 days 16:16:00  \n",
       "2  0 days 21:31:00  \n",
       "3  0 days 18:09:00  \n",
       "4  0 days 18:13:00  "
      ]
     },
     "execution_count": 71,
     "metadata": {},
     "output_type": "execute_result"
    }
   ],
   "source": [
    "patients_ds_df.head()"
   ]
  },
  {
   "cell_type": "code",
   "execution_count": 72,
   "metadata": {},
   "outputs": [
    {
     "data": {
      "text/plain": [
       "count                      12413\n",
       "mean      6 days 02:09:57.839361\n",
       "std      20 days 17:15:08.958581\n",
       "min              0 days 00:01:00\n",
       "25%              1 days 03:47:00\n",
       "50%              2 days 18:01:00\n",
       "75%              5 days 19:26:00\n",
       "max           1268 days 22:30:00\n",
       "Name: PatientStayRange, dtype: object"
      ]
     },
     "execution_count": 72,
     "metadata": {},
     "output_type": "execute_result"
    }
   ],
   "source": [
    "patients_ds_df['PatientStayRange'].describe()"
   ]
  },
  {
   "cell_type": "code",
   "execution_count": 77,
   "metadata": {
    "collapsed": true
   },
   "outputs": [],
   "source": [
    "current_bed = 53 \n",
    "\n",
    "# avg of stay - mean      6 days 02:09:57.839361\n",
    "patient_avg_range_of_days =  6\n",
    "\n",
    "# 12 , 13, 14 , 15 counts avg. \n",
    "# number of patients in year 12, 13 ,14 ,15 avg\n",
    "avg_yearly_patients = 4119.666666666667\n",
    "\n"
   ]
  },
  {
   "cell_type": "code",
   "execution_count": 78,
   "metadata": {
    "collapsed": true
   },
   "outputs": [],
   "source": [
    "bed_required =  ( patient_avg_range_of_days * avg_yearly_patients ) / 365"
   ]
  },
  {
   "cell_type": "code",
   "execution_count": 79,
   "metadata": {},
   "outputs": [
    {
     "name": "stdout",
     "output_type": "stream",
     "text": [
      "******** Number of Beds Required *****************\n",
      "67.72054794520548\n"
     ]
    }
   ],
   "source": [
    "print('******** Number of Beds Required *****************\\n' + str(bed_required))\n"
   ]
  },
  {
   "cell_type": "code",
   "execution_count": null,
   "metadata": {
    "collapsed": true
   },
   "outputs": [],
   "source": []
  }
 ],
 "metadata": {
  "kernelspec": {
   "display_name": "Python 3",
   "language": "python",
   "name": "python3"
  },
  "language_info": {
   "codemirror_mode": {
    "name": "ipython",
    "version": 3
   },
   "file_extension": ".py",
   "mimetype": "text/x-python",
   "name": "python",
   "nbconvert_exporter": "python",
   "pygments_lexer": "ipython3",
   "version": "3.6.0"
  }
 },
 "nbformat": 4,
 "nbformat_minor": 2
}
